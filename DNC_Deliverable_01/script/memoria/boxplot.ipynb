{
 "cells": [
  {
   "cell_type": "code",
   "execution_count": null,
   "id": "f12b6680",
   "metadata": {},
   "outputs": [],
   "source": [
    "import pandas as pd\n",
    "pd.set_option('display.max_columns', None)\n",
    "from pandas.api.types import CategoricalDtype\n",
    "\n",
    "import math\n",
    "import numpy as np\n",
    "import matplotlib.pyplot as plt\n",
    "%matplotlib inline\n",
    "\n",
    "import seaborn as sns\n",
    "sns.set_style()\n",
    "\n",
    "from scipy import stats, linalg"
   ]
  },
  {
   "cell_type": "code",
   "execution_count": null,
   "id": "1869f94d",
   "metadata": {},
   "outputs": [],
   "source": [
    "df = pd.read_csv('../dados/kc_house_data_br.csv', sep = ',')"
   ]
  },
  {
   "cell_type": "code",
   "execution_count": null,
   "id": "48d72dac",
   "metadata": {},
   "outputs": [],
   "source": [
    "df"
   ]
  },
  {
   "cell_type": "code",
   "execution_count": null,
   "id": "d91eeda2",
   "metadata": {},
   "outputs": [],
   "source": [
    "df[['BRL']].plot(kind='box')\n",
    "plt.title('data da construcao / Valor do imovel')\n",
    "plt.show()"
   ]
  },
  {
   "cell_type": "code",
   "execution_count": null,
   "id": "781e2caf",
   "metadata": {},
   "outputs": [],
   "source": [
    "df.boxplot(by ='construcao', column =['BRL'])"
   ]
  },
  {
   "cell_type": "code",
   "execution_count": null,
   "id": "a4b83dcc",
   "metadata": {},
   "outputs": [],
   "source": []
  }
 ],
 "metadata": {
  "kernelspec": {
   "display_name": "Python 3 (ipykernel)",
   "language": "python",
   "name": "python3"
  },
  "language_info": {
   "codemirror_mode": {
    "name": "ipython",
    "version": 3
   },
   "file_extension": ".py",
   "mimetype": "text/x-python",
   "name": "python",
   "nbconvert_exporter": "python",
   "pygments_lexer": "ipython3",
   "version": "3.9.7"
  }
 },
 "nbformat": 4,
 "nbformat_minor": 5
}

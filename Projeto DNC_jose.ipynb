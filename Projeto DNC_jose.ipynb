{
 "cells": [
  {
   "cell_type": "code",
   "execution_count": 1,
   "id": "49683970",
   "metadata": {},
   "outputs": [
    {
     "name": "stdout",
     "output_type": "stream",
     "text": [
      "Requirement already satisfied: folium in c:\\users\\asus\\anaconda3\\lib\\site-packages (0.12.1.post1)\n",
      "Requirement already satisfied: jinja2>=2.9 in c:\\users\\asus\\anaconda3\\lib\\site-packages (from folium) (2.11.3)\n",
      "Requirement already satisfied: branca>=0.3.0 in c:\\users\\asus\\anaconda3\\lib\\site-packages (from folium) (0.4.2)\n",
      "Requirement already satisfied: numpy in c:\\users\\asus\\anaconda3\\lib\\site-packages (from folium) (1.20.3)\n",
      "Requirement already satisfied: requests in c:\\users\\asus\\anaconda3\\lib\\site-packages (from folium) (2.26.0)\n",
      "Requirement already satisfied: MarkupSafe>=0.23 in c:\\users\\asus\\anaconda3\\lib\\site-packages (from jinja2>=2.9->folium) (1.1.1)\n",
      "Requirement already satisfied: charset-normalizer~=2.0.0 in c:\\users\\asus\\anaconda3\\lib\\site-packages (from requests->folium) (2.0.4)\n",
      "Requirement already satisfied: urllib3<1.27,>=1.21.1 in c:\\users\\asus\\anaconda3\\lib\\site-packages (from requests->folium) (1.26.7)\n",
      "Requirement already satisfied: idna<4,>=2.5 in c:\\users\\asus\\anaconda3\\lib\\site-packages (from requests->folium) (3.2)\n",
      "Note: you may need to restart the kernel to use updated packages.\n",
      "Requirement already satisfied: certifi>=2017.4.17 in c:\\users\\asus\\anaconda3\\lib\\site-packages (from requests->folium) (2021.10.8)\n"
     ]
    }
   ],
   "source": [
    "pip install folium"
   ]
  },
  {
   "cell_type": "code",
   "execution_count": 1,
   "id": "1df70829",
   "metadata": {},
   "outputs": [],
   "source": [
    "import pandas as pd # For Data Visualization\n",
    "import numpy as np # For Numerical activities\n",
    "\n",
    "import matplotlib.pyplot as plt # For Visualization\n",
    "import seaborn as sns # For Visualization\n",
    "import folium # For Map Visualization\n",
    "\n",
    "plt.style.use('fivethirtyeight') # For Nice Viz\n",
    "\n",
    "from sklearn.preprocessing import StandardScaler, MinMaxScaler"
   ]
  },
  {
   "cell_type": "code",
   "execution_count": 48,
   "id": "1a27923e",
   "metadata": {},
   "outputs": [
    {
     "ename": "ModuleNotFoundError",
     "evalue": "No module named 'statiscics'",
     "output_type": "error",
     "traceback": [
      "\u001b[1;31m---------------------------------------------------------------------------\u001b[0m",
      "\u001b[1;31mModuleNotFoundError\u001b[0m                       Traceback (most recent call last)",
      "\u001b[1;32m~\\AppData\\Local\\Temp/ipykernel_10056/1686071633.py\u001b[0m in \u001b[0;36m<module>\u001b[1;34m\u001b[0m\n\u001b[1;32m----> 1\u001b[1;33m \u001b[1;32mimport\u001b[0m \u001b[0mstatiscics\u001b[0m \u001b[1;32mas\u001b[0m \u001b[0mst\u001b[0m\u001b[1;33m\u001b[0m\u001b[1;33m\u001b[0m\u001b[0m\n\u001b[0m",
      "\u001b[1;31mModuleNotFoundError\u001b[0m: No module named 'statiscics'"
     ]
    }
   ],
   "source": [
    "import statiscics as st"
   ]
  },
  {
   "cell_type": "code",
   "execution_count": 12,
   "id": "9b5401c0",
   "metadata": {},
   "outputs": [],
   "source": [
    "pd.set_option('display.max_columns', 500)\n",
    "pd.set_option('display.width', 1000)"
   ]
  },
  {
   "cell_type": "code",
   "execution_count": 2,
   "id": "aa005edf",
   "metadata": {},
   "outputs": [
    {
     "name": "stdout",
     "output_type": "stream",
     "text": [
      "A lista com a soma das pontuações [6, 9, 7, 7, 7, 13, 12, 9, 7, 10] \n",
      "\n",
      "Dicionário com as pontuações junto dos identificadores \n",
      " [('garcia', 13), ('saulo', 12), ('baraka', 10), ('bar', 9), ('clayton', 9), ('santino', 7), ('darlos', 7), ('evaro', 7), ('mohamed', 7), ('lagos', 6)] \n",
      "\n",
      "As 4 pontuações mais altas são:[('garcia', 13), ('saulo', 12), ('baraka', 10), ('bar', 9)] \n",
      " As 4 pontuações mais baixas são: [('darlos', 7), ('evaro', 7), ('mohamed', 7), ('lagos', 6)]\n"
     ]
    }
   ],
   "source": [
    "## Modelo básico de como vai ser o programa que unificará todos os pontos da planilha kc_house.\n",
    "# Listas hipotéticas de como ficariam as listas com as pontuações da tabela.\n",
    "a1 = (2,3,4,5,6,7,8,3,4,6)\n",
    "a2 = (4,6,3,2,1,6,4,6,3,4)\n",
    "\n",
    "## Exemplo de como ficaria o programa final\n",
    "# for b1, b2, b3, b4, b5, b6, b7, b8, b9, b10, b11, b12, b13, b14, b15, b16, b17, b18, b19\n",
    "# in zip(a1, a2, a3, a4, a5, a6, a7, a8, a9, a10, a11, a12, a13, a14, a15, a16, a17, a18):\n",
    "#     c = x + y\n",
    "#     d.append(c)\n",
    "\n",
    "# O somatório de todas listas seria depositado em uma única lista atravez de um laço for zip (como no caso do exemplo abaixo\n",
    "# as somas foram depositadas na lista \"d\".\n",
    "d = []\n",
    "c = 0\n",
    "for x, y in zip(a1,a2):\n",
    "    c = x + y\n",
    "    d.append(c)\n",
    "\n",
    "print(f'A lista com a soma das pontuações {d}','\\n')\n",
    "# O programa abaixo seria o exemplo de como sincronizar todas as somas de pontos com seu respectivo ID em um único \n",
    "# dicionário\n",
    "g = [\"lagos\", \"bar\", \"santino\", \"darlos\", \"evaro\", \"garcia\", \"saulo\", \"clayton\", \"mohamed\", \"baraka\"]\n",
    "\n",
    "lista_nova = dict()\n",
    "for x1, y1 in zip(g,d):\n",
    "    lista_nova[x1] = y1\n",
    "\n",
    "lista_nova = sorted(lista_nova.items(), key=lambda x: x[1], reverse = True)\n",
    "print('Dicionário com as pontuações junto dos identificadores','\\n',lista_nova,'\\n')\n",
    "print(f'As 4 pontuações mais altas são:{lista_nova[0:4]}','\\n',f'As 4 pontuações mais baixas são: {lista_nova[6:10+1]}')"
   ]
  },
  {
   "cell_type": "code",
   "execution_count": 3,
   "id": "e08ee7d5",
   "metadata": {},
   "outputs": [],
   "source": [
    "kc2 = pd.read_csv('kc_house_data_tr.csv', sep = ',')"
   ]
  },
  {
   "cell_type": "code",
   "execution_count": 4,
   "id": "d664733c",
   "metadata": {},
   "outputs": [
    {
     "data": {
      "text/html": [
       "<div>\n",
       "<style scoped>\n",
       "    .dataframe tbody tr th:only-of-type {\n",
       "        vertical-align: middle;\n",
       "    }\n",
       "\n",
       "    .dataframe tbody tr th {\n",
       "        vertical-align: top;\n",
       "    }\n",
       "\n",
       "    .dataframe thead th {\n",
       "        text-align: right;\n",
       "    }\n",
       "</style>\n",
       "<table border=\"1\" class=\"dataframe\">\n",
       "  <thead>\n",
       "    <tr style=\"text-align: right;\">\n",
       "      <th></th>\n",
       "      <th>registro</th>\n",
       "      <th>data</th>\n",
       "      <th>preço</th>\n",
       "      <th>quartos</th>\n",
       "      <th>banheiros</th>\n",
       "      <th>casa_m²</th>\n",
       "      <th>lote_m²</th>\n",
       "      <th>nº_pavtos</th>\n",
       "      <th>frente_mar</th>\n",
       "      <th>visao</th>\n",
       "      <th>...</th>\n",
       "      <th>padrao</th>\n",
       "      <th>excluir_3</th>\n",
       "      <th>subsolo_m²</th>\n",
       "      <th>construção</th>\n",
       "      <th>reforma</th>\n",
       "      <th>cep</th>\n",
       "      <th>lat</th>\n",
       "      <th>log</th>\n",
       "      <th>exclur_1</th>\n",
       "      <th>excluir_2</th>\n",
       "    </tr>\n",
       "  </thead>\n",
       "  <tbody>\n",
       "    <tr>\n",
       "      <th>0</th>\n",
       "      <td>7129300520</td>\n",
       "      <td>2014-10-13</td>\n",
       "      <td>221900.0</td>\n",
       "      <td>3</td>\n",
       "      <td>1.00</td>\n",
       "      <td>1180</td>\n",
       "      <td>5650</td>\n",
       "      <td>1.0</td>\n",
       "      <td>0</td>\n",
       "      <td>0</td>\n",
       "      <td>...</td>\n",
       "      <td>7</td>\n",
       "      <td>1180</td>\n",
       "      <td>0</td>\n",
       "      <td>1955</td>\n",
       "      <td>0</td>\n",
       "      <td>98178</td>\n",
       "      <td>47.5112</td>\n",
       "      <td>-122.257</td>\n",
       "      <td>1340</td>\n",
       "      <td>5650</td>\n",
       "    </tr>\n",
       "    <tr>\n",
       "      <th>1</th>\n",
       "      <td>6414100192</td>\n",
       "      <td>2014-12-09</td>\n",
       "      <td>538000.0</td>\n",
       "      <td>3</td>\n",
       "      <td>2.25</td>\n",
       "      <td>2570</td>\n",
       "      <td>7242</td>\n",
       "      <td>2.0</td>\n",
       "      <td>0</td>\n",
       "      <td>0</td>\n",
       "      <td>...</td>\n",
       "      <td>7</td>\n",
       "      <td>2170</td>\n",
       "      <td>400</td>\n",
       "      <td>1951</td>\n",
       "      <td>1991</td>\n",
       "      <td>98125</td>\n",
       "      <td>47.7210</td>\n",
       "      <td>-122.319</td>\n",
       "      <td>1690</td>\n",
       "      <td>7639</td>\n",
       "    </tr>\n",
       "    <tr>\n",
       "      <th>2</th>\n",
       "      <td>5631500400</td>\n",
       "      <td>2015-02-25</td>\n",
       "      <td>180000.0</td>\n",
       "      <td>2</td>\n",
       "      <td>1.00</td>\n",
       "      <td>770</td>\n",
       "      <td>10000</td>\n",
       "      <td>1.0</td>\n",
       "      <td>0</td>\n",
       "      <td>0</td>\n",
       "      <td>...</td>\n",
       "      <td>6</td>\n",
       "      <td>770</td>\n",
       "      <td>0</td>\n",
       "      <td>1933</td>\n",
       "      <td>0</td>\n",
       "      <td>98028</td>\n",
       "      <td>47.7379</td>\n",
       "      <td>-122.233</td>\n",
       "      <td>2720</td>\n",
       "      <td>8062</td>\n",
       "    </tr>\n",
       "    <tr>\n",
       "      <th>3</th>\n",
       "      <td>2487200875</td>\n",
       "      <td>2014-12-09</td>\n",
       "      <td>604000.0</td>\n",
       "      <td>4</td>\n",
       "      <td>3.00</td>\n",
       "      <td>1960</td>\n",
       "      <td>5000</td>\n",
       "      <td>1.0</td>\n",
       "      <td>0</td>\n",
       "      <td>0</td>\n",
       "      <td>...</td>\n",
       "      <td>7</td>\n",
       "      <td>1050</td>\n",
       "      <td>910</td>\n",
       "      <td>1965</td>\n",
       "      <td>0</td>\n",
       "      <td>98136</td>\n",
       "      <td>47.5208</td>\n",
       "      <td>-122.393</td>\n",
       "      <td>1360</td>\n",
       "      <td>5000</td>\n",
       "    </tr>\n",
       "    <tr>\n",
       "      <th>4</th>\n",
       "      <td>1954400510</td>\n",
       "      <td>2015-02-18</td>\n",
       "      <td>510000.0</td>\n",
       "      <td>3</td>\n",
       "      <td>2.00</td>\n",
       "      <td>1680</td>\n",
       "      <td>8080</td>\n",
       "      <td>1.0</td>\n",
       "      <td>0</td>\n",
       "      <td>0</td>\n",
       "      <td>...</td>\n",
       "      <td>8</td>\n",
       "      <td>1680</td>\n",
       "      <td>0</td>\n",
       "      <td>1987</td>\n",
       "      <td>0</td>\n",
       "      <td>98074</td>\n",
       "      <td>47.6168</td>\n",
       "      <td>-122.045</td>\n",
       "      <td>1800</td>\n",
       "      <td>7503</td>\n",
       "    </tr>\n",
       "    <tr>\n",
       "      <th>...</th>\n",
       "      <td>...</td>\n",
       "      <td>...</td>\n",
       "      <td>...</td>\n",
       "      <td>...</td>\n",
       "      <td>...</td>\n",
       "      <td>...</td>\n",
       "      <td>...</td>\n",
       "      <td>...</td>\n",
       "      <td>...</td>\n",
       "      <td>...</td>\n",
       "      <td>...</td>\n",
       "      <td>...</td>\n",
       "      <td>...</td>\n",
       "      <td>...</td>\n",
       "      <td>...</td>\n",
       "      <td>...</td>\n",
       "      <td>...</td>\n",
       "      <td>...</td>\n",
       "      <td>...</td>\n",
       "      <td>...</td>\n",
       "      <td>...</td>\n",
       "    </tr>\n",
       "    <tr>\n",
       "      <th>21608</th>\n",
       "      <td>263000018</td>\n",
       "      <td>2014-05-21</td>\n",
       "      <td>360000.0</td>\n",
       "      <td>3</td>\n",
       "      <td>2.50</td>\n",
       "      <td>1530</td>\n",
       "      <td>1131</td>\n",
       "      <td>3.0</td>\n",
       "      <td>0</td>\n",
       "      <td>0</td>\n",
       "      <td>...</td>\n",
       "      <td>8</td>\n",
       "      <td>1530</td>\n",
       "      <td>0</td>\n",
       "      <td>2009</td>\n",
       "      <td>0</td>\n",
       "      <td>98103</td>\n",
       "      <td>47.6993</td>\n",
       "      <td>-122.346</td>\n",
       "      <td>1530</td>\n",
       "      <td>1509</td>\n",
       "    </tr>\n",
       "    <tr>\n",
       "      <th>21609</th>\n",
       "      <td>6600060120</td>\n",
       "      <td>2015-02-23</td>\n",
       "      <td>400000.0</td>\n",
       "      <td>4</td>\n",
       "      <td>2.50</td>\n",
       "      <td>2310</td>\n",
       "      <td>5813</td>\n",
       "      <td>2.0</td>\n",
       "      <td>0</td>\n",
       "      <td>0</td>\n",
       "      <td>...</td>\n",
       "      <td>8</td>\n",
       "      <td>2310</td>\n",
       "      <td>0</td>\n",
       "      <td>2014</td>\n",
       "      <td>0</td>\n",
       "      <td>98146</td>\n",
       "      <td>47.5107</td>\n",
       "      <td>-122.362</td>\n",
       "      <td>1830</td>\n",
       "      <td>7200</td>\n",
       "    </tr>\n",
       "    <tr>\n",
       "      <th>21610</th>\n",
       "      <td>1523300141</td>\n",
       "      <td>2014-06-23</td>\n",
       "      <td>402101.0</td>\n",
       "      <td>2</td>\n",
       "      <td>0.75</td>\n",
       "      <td>1020</td>\n",
       "      <td>1350</td>\n",
       "      <td>2.0</td>\n",
       "      <td>0</td>\n",
       "      <td>0</td>\n",
       "      <td>...</td>\n",
       "      <td>7</td>\n",
       "      <td>1020</td>\n",
       "      <td>0</td>\n",
       "      <td>2009</td>\n",
       "      <td>0</td>\n",
       "      <td>98144</td>\n",
       "      <td>47.5944</td>\n",
       "      <td>-122.299</td>\n",
       "      <td>1020</td>\n",
       "      <td>2007</td>\n",
       "    </tr>\n",
       "    <tr>\n",
       "      <th>21611</th>\n",
       "      <td>291310100</td>\n",
       "      <td>2015-01-16</td>\n",
       "      <td>400000.0</td>\n",
       "      <td>3</td>\n",
       "      <td>2.50</td>\n",
       "      <td>1600</td>\n",
       "      <td>2388</td>\n",
       "      <td>2.0</td>\n",
       "      <td>0</td>\n",
       "      <td>0</td>\n",
       "      <td>...</td>\n",
       "      <td>8</td>\n",
       "      <td>1600</td>\n",
       "      <td>0</td>\n",
       "      <td>2004</td>\n",
       "      <td>0</td>\n",
       "      <td>98027</td>\n",
       "      <td>47.5345</td>\n",
       "      <td>-122.069</td>\n",
       "      <td>1410</td>\n",
       "      <td>1287</td>\n",
       "    </tr>\n",
       "    <tr>\n",
       "      <th>21612</th>\n",
       "      <td>1523300157</td>\n",
       "      <td>2014-10-15</td>\n",
       "      <td>325000.0</td>\n",
       "      <td>2</td>\n",
       "      <td>0.75</td>\n",
       "      <td>1020</td>\n",
       "      <td>1076</td>\n",
       "      <td>2.0</td>\n",
       "      <td>0</td>\n",
       "      <td>0</td>\n",
       "      <td>...</td>\n",
       "      <td>7</td>\n",
       "      <td>1020</td>\n",
       "      <td>0</td>\n",
       "      <td>2008</td>\n",
       "      <td>0</td>\n",
       "      <td>98144</td>\n",
       "      <td>47.5941</td>\n",
       "      <td>-122.299</td>\n",
       "      <td>1020</td>\n",
       "      <td>1357</td>\n",
       "    </tr>\n",
       "  </tbody>\n",
       "</table>\n",
       "<p>21613 rows × 21 columns</p>\n",
       "</div>"
      ],
      "text/plain": [
       "         registro        data     preço  quartos  banheiros  casa_m²  lote_m²  \\\n",
       "0      7129300520  2014-10-13  221900.0        3       1.00     1180     5650   \n",
       "1      6414100192  2014-12-09  538000.0        3       2.25     2570     7242   \n",
       "2      5631500400  2015-02-25  180000.0        2       1.00      770    10000   \n",
       "3      2487200875  2014-12-09  604000.0        4       3.00     1960     5000   \n",
       "4      1954400510  2015-02-18  510000.0        3       2.00     1680     8080   \n",
       "...           ...         ...       ...      ...        ...      ...      ...   \n",
       "21608   263000018  2014-05-21  360000.0        3       2.50     1530     1131   \n",
       "21609  6600060120  2015-02-23  400000.0        4       2.50     2310     5813   \n",
       "21610  1523300141  2014-06-23  402101.0        2       0.75     1020     1350   \n",
       "21611   291310100  2015-01-16  400000.0        3       2.50     1600     2388   \n",
       "21612  1523300157  2014-10-15  325000.0        2       0.75     1020     1076   \n",
       "\n",
       "       nº_pavtos  frente_mar  visao  ...  padrao  excluir_3  subsolo_m²  \\\n",
       "0            1.0           0      0  ...       7       1180           0   \n",
       "1            2.0           0      0  ...       7       2170         400   \n",
       "2            1.0           0      0  ...       6        770           0   \n",
       "3            1.0           0      0  ...       7       1050         910   \n",
       "4            1.0           0      0  ...       8       1680           0   \n",
       "...          ...         ...    ...  ...     ...        ...         ...   \n",
       "21608        3.0           0      0  ...       8       1530           0   \n",
       "21609        2.0           0      0  ...       8       2310           0   \n",
       "21610        2.0           0      0  ...       7       1020           0   \n",
       "21611        2.0           0      0  ...       8       1600           0   \n",
       "21612        2.0           0      0  ...       7       1020           0   \n",
       "\n",
       "       construção  reforma    cep      lat      log  exclur_1  excluir_2  \n",
       "0            1955        0  98178  47.5112 -122.257      1340       5650  \n",
       "1            1951     1991  98125  47.7210 -122.319      1690       7639  \n",
       "2            1933        0  98028  47.7379 -122.233      2720       8062  \n",
       "3            1965        0  98136  47.5208 -122.393      1360       5000  \n",
       "4            1987        0  98074  47.6168 -122.045      1800       7503  \n",
       "...           ...      ...    ...      ...      ...       ...        ...  \n",
       "21608        2009        0  98103  47.6993 -122.346      1530       1509  \n",
       "21609        2014        0  98146  47.5107 -122.362      1830       7200  \n",
       "21610        2009        0  98144  47.5944 -122.299      1020       2007  \n",
       "21611        2004        0  98027  47.5345 -122.069      1410       1287  \n",
       "21612        2008        0  98144  47.5941 -122.299      1020       1357  \n",
       "\n",
       "[21613 rows x 21 columns]"
      ]
     },
     "metadata": {},
     "output_type": "display_data"
    }
   ],
   "source": [
    "display(kc2)"
   ]
  },
  {
   "cell_type": "code",
   "execution_count": 5,
   "id": "b2f6bb04",
   "metadata": {},
   "outputs": [
    {
     "data": {
      "text/html": [
       "<div>\n",
       "<style scoped>\n",
       "    .dataframe tbody tr th:only-of-type {\n",
       "        vertical-align: middle;\n",
       "    }\n",
       "\n",
       "    .dataframe tbody tr th {\n",
       "        vertical-align: top;\n",
       "    }\n",
       "\n",
       "    .dataframe thead th {\n",
       "        text-align: right;\n",
       "    }\n",
       "</style>\n",
       "<table border=\"1\" class=\"dataframe\">\n",
       "  <thead>\n",
       "    <tr style=\"text-align: right;\">\n",
       "      <th></th>\n",
       "      <th>registro</th>\n",
       "      <th>preço</th>\n",
       "      <th>quartos</th>\n",
       "      <th>banheiros</th>\n",
       "      <th>casa_m²</th>\n",
       "      <th>lote_m²</th>\n",
       "      <th>nº_pavtos</th>\n",
       "      <th>frente_mar</th>\n",
       "      <th>visao</th>\n",
       "      <th>condicao</th>\n",
       "      <th>padrao</th>\n",
       "      <th>excluir_3</th>\n",
       "      <th>subsolo_m²</th>\n",
       "      <th>construção</th>\n",
       "      <th>reforma</th>\n",
       "      <th>cep</th>\n",
       "      <th>lat</th>\n",
       "      <th>log</th>\n",
       "      <th>exclur_1</th>\n",
       "      <th>excluir_2</th>\n",
       "    </tr>\n",
       "  </thead>\n",
       "  <tbody>\n",
       "    <tr>\n",
       "      <th>count</th>\n",
       "      <td>2.161300e+04</td>\n",
       "      <td>2.161300e+04</td>\n",
       "      <td>21613.000000</td>\n",
       "      <td>21613.000000</td>\n",
       "      <td>21613.000000</td>\n",
       "      <td>2.161300e+04</td>\n",
       "      <td>21613.000000</td>\n",
       "      <td>21613.000000</td>\n",
       "      <td>21613.000000</td>\n",
       "      <td>21613.000000</td>\n",
       "      <td>21613.000000</td>\n",
       "      <td>21613.000000</td>\n",
       "      <td>21613.000000</td>\n",
       "      <td>21613.000000</td>\n",
       "      <td>21613.000000</td>\n",
       "      <td>21613.000000</td>\n",
       "      <td>21613.000000</td>\n",
       "      <td>21613.000000</td>\n",
       "      <td>21613.000000</td>\n",
       "      <td>21613.000000</td>\n",
       "    </tr>\n",
       "    <tr>\n",
       "      <th>mean</th>\n",
       "      <td>4.580302e+09</td>\n",
       "      <td>5.400881e+05</td>\n",
       "      <td>3.370842</td>\n",
       "      <td>2.114757</td>\n",
       "      <td>2079.899736</td>\n",
       "      <td>1.510697e+04</td>\n",
       "      <td>1.494309</td>\n",
       "      <td>0.007542</td>\n",
       "      <td>0.234303</td>\n",
       "      <td>3.409430</td>\n",
       "      <td>7.656873</td>\n",
       "      <td>1788.390691</td>\n",
       "      <td>291.509045</td>\n",
       "      <td>1971.005136</td>\n",
       "      <td>84.402258</td>\n",
       "      <td>98077.939805</td>\n",
       "      <td>47.560053</td>\n",
       "      <td>-122.213896</td>\n",
       "      <td>1986.552492</td>\n",
       "      <td>12768.455652</td>\n",
       "    </tr>\n",
       "    <tr>\n",
       "      <th>std</th>\n",
       "      <td>2.876566e+09</td>\n",
       "      <td>3.671272e+05</td>\n",
       "      <td>0.930062</td>\n",
       "      <td>0.770163</td>\n",
       "      <td>918.440897</td>\n",
       "      <td>4.142051e+04</td>\n",
       "      <td>0.539989</td>\n",
       "      <td>0.086517</td>\n",
       "      <td>0.766318</td>\n",
       "      <td>0.650743</td>\n",
       "      <td>1.175459</td>\n",
       "      <td>828.090978</td>\n",
       "      <td>442.575043</td>\n",
       "      <td>29.373411</td>\n",
       "      <td>401.679240</td>\n",
       "      <td>53.505026</td>\n",
       "      <td>0.138564</td>\n",
       "      <td>0.140828</td>\n",
       "      <td>685.391304</td>\n",
       "      <td>27304.179631</td>\n",
       "    </tr>\n",
       "    <tr>\n",
       "      <th>min</th>\n",
       "      <td>1.000102e+06</td>\n",
       "      <td>7.500000e+04</td>\n",
       "      <td>0.000000</td>\n",
       "      <td>0.000000</td>\n",
       "      <td>290.000000</td>\n",
       "      <td>5.200000e+02</td>\n",
       "      <td>1.000000</td>\n",
       "      <td>0.000000</td>\n",
       "      <td>0.000000</td>\n",
       "      <td>1.000000</td>\n",
       "      <td>1.000000</td>\n",
       "      <td>290.000000</td>\n",
       "      <td>0.000000</td>\n",
       "      <td>1900.000000</td>\n",
       "      <td>0.000000</td>\n",
       "      <td>98001.000000</td>\n",
       "      <td>47.155900</td>\n",
       "      <td>-122.519000</td>\n",
       "      <td>399.000000</td>\n",
       "      <td>651.000000</td>\n",
       "    </tr>\n",
       "    <tr>\n",
       "      <th>25%</th>\n",
       "      <td>2.123049e+09</td>\n",
       "      <td>3.219500e+05</td>\n",
       "      <td>3.000000</td>\n",
       "      <td>1.750000</td>\n",
       "      <td>1427.000000</td>\n",
       "      <td>5.040000e+03</td>\n",
       "      <td>1.000000</td>\n",
       "      <td>0.000000</td>\n",
       "      <td>0.000000</td>\n",
       "      <td>3.000000</td>\n",
       "      <td>7.000000</td>\n",
       "      <td>1190.000000</td>\n",
       "      <td>0.000000</td>\n",
       "      <td>1951.000000</td>\n",
       "      <td>0.000000</td>\n",
       "      <td>98033.000000</td>\n",
       "      <td>47.471000</td>\n",
       "      <td>-122.328000</td>\n",
       "      <td>1490.000000</td>\n",
       "      <td>5100.000000</td>\n",
       "    </tr>\n",
       "    <tr>\n",
       "      <th>50%</th>\n",
       "      <td>3.904930e+09</td>\n",
       "      <td>4.500000e+05</td>\n",
       "      <td>3.000000</td>\n",
       "      <td>2.250000</td>\n",
       "      <td>1910.000000</td>\n",
       "      <td>7.618000e+03</td>\n",
       "      <td>1.500000</td>\n",
       "      <td>0.000000</td>\n",
       "      <td>0.000000</td>\n",
       "      <td>3.000000</td>\n",
       "      <td>7.000000</td>\n",
       "      <td>1560.000000</td>\n",
       "      <td>0.000000</td>\n",
       "      <td>1975.000000</td>\n",
       "      <td>0.000000</td>\n",
       "      <td>98065.000000</td>\n",
       "      <td>47.571800</td>\n",
       "      <td>-122.230000</td>\n",
       "      <td>1840.000000</td>\n",
       "      <td>7620.000000</td>\n",
       "    </tr>\n",
       "    <tr>\n",
       "      <th>75%</th>\n",
       "      <td>7.308900e+09</td>\n",
       "      <td>6.450000e+05</td>\n",
       "      <td>4.000000</td>\n",
       "      <td>2.500000</td>\n",
       "      <td>2550.000000</td>\n",
       "      <td>1.068800e+04</td>\n",
       "      <td>2.000000</td>\n",
       "      <td>0.000000</td>\n",
       "      <td>0.000000</td>\n",
       "      <td>4.000000</td>\n",
       "      <td>8.000000</td>\n",
       "      <td>2210.000000</td>\n",
       "      <td>560.000000</td>\n",
       "      <td>1997.000000</td>\n",
       "      <td>0.000000</td>\n",
       "      <td>98118.000000</td>\n",
       "      <td>47.678000</td>\n",
       "      <td>-122.125000</td>\n",
       "      <td>2360.000000</td>\n",
       "      <td>10083.000000</td>\n",
       "    </tr>\n",
       "    <tr>\n",
       "      <th>max</th>\n",
       "      <td>9.900000e+09</td>\n",
       "      <td>7.700000e+06</td>\n",
       "      <td>33.000000</td>\n",
       "      <td>8.000000</td>\n",
       "      <td>13540.000000</td>\n",
       "      <td>1.651359e+06</td>\n",
       "      <td>3.500000</td>\n",
       "      <td>1.000000</td>\n",
       "      <td>4.000000</td>\n",
       "      <td>5.000000</td>\n",
       "      <td>13.000000</td>\n",
       "      <td>9410.000000</td>\n",
       "      <td>4820.000000</td>\n",
       "      <td>2015.000000</td>\n",
       "      <td>2015.000000</td>\n",
       "      <td>98199.000000</td>\n",
       "      <td>47.777600</td>\n",
       "      <td>-121.315000</td>\n",
       "      <td>6210.000000</td>\n",
       "      <td>871200.000000</td>\n",
       "    </tr>\n",
       "  </tbody>\n",
       "</table>\n",
       "</div>"
      ],
      "text/plain": [
       "           registro         preço       quartos     banheiros       casa_m²  \\\n",
       "count  2.161300e+04  2.161300e+04  21613.000000  21613.000000  21613.000000   \n",
       "mean   4.580302e+09  5.400881e+05      3.370842      2.114757   2079.899736   \n",
       "std    2.876566e+09  3.671272e+05      0.930062      0.770163    918.440897   \n",
       "min    1.000102e+06  7.500000e+04      0.000000      0.000000    290.000000   \n",
       "25%    2.123049e+09  3.219500e+05      3.000000      1.750000   1427.000000   \n",
       "50%    3.904930e+09  4.500000e+05      3.000000      2.250000   1910.000000   \n",
       "75%    7.308900e+09  6.450000e+05      4.000000      2.500000   2550.000000   \n",
       "max    9.900000e+09  7.700000e+06     33.000000      8.000000  13540.000000   \n",
       "\n",
       "            lote_m²     nº_pavtos    frente_mar         visao      condicao  \\\n",
       "count  2.161300e+04  21613.000000  21613.000000  21613.000000  21613.000000   \n",
       "mean   1.510697e+04      1.494309      0.007542      0.234303      3.409430   \n",
       "std    4.142051e+04      0.539989      0.086517      0.766318      0.650743   \n",
       "min    5.200000e+02      1.000000      0.000000      0.000000      1.000000   \n",
       "25%    5.040000e+03      1.000000      0.000000      0.000000      3.000000   \n",
       "50%    7.618000e+03      1.500000      0.000000      0.000000      3.000000   \n",
       "75%    1.068800e+04      2.000000      0.000000      0.000000      4.000000   \n",
       "max    1.651359e+06      3.500000      1.000000      4.000000      5.000000   \n",
       "\n",
       "             padrao     excluir_3    subsolo_m²    construção       reforma  \\\n",
       "count  21613.000000  21613.000000  21613.000000  21613.000000  21613.000000   \n",
       "mean       7.656873   1788.390691    291.509045   1971.005136     84.402258   \n",
       "std        1.175459    828.090978    442.575043     29.373411    401.679240   \n",
       "min        1.000000    290.000000      0.000000   1900.000000      0.000000   \n",
       "25%        7.000000   1190.000000      0.000000   1951.000000      0.000000   \n",
       "50%        7.000000   1560.000000      0.000000   1975.000000      0.000000   \n",
       "75%        8.000000   2210.000000    560.000000   1997.000000      0.000000   \n",
       "max       13.000000   9410.000000   4820.000000   2015.000000   2015.000000   \n",
       "\n",
       "                cep           lat           log      exclur_1      excluir_2  \n",
       "count  21613.000000  21613.000000  21613.000000  21613.000000   21613.000000  \n",
       "mean   98077.939805     47.560053   -122.213896   1986.552492   12768.455652  \n",
       "std       53.505026      0.138564      0.140828    685.391304   27304.179631  \n",
       "min    98001.000000     47.155900   -122.519000    399.000000     651.000000  \n",
       "25%    98033.000000     47.471000   -122.328000   1490.000000    5100.000000  \n",
       "50%    98065.000000     47.571800   -122.230000   1840.000000    7620.000000  \n",
       "75%    98118.000000     47.678000   -122.125000   2360.000000   10083.000000  \n",
       "max    98199.000000     47.777600   -121.315000   6210.000000  871200.000000  "
      ]
     },
     "execution_count": 5,
     "metadata": {},
     "output_type": "execute_result"
    }
   ],
   "source": [
    "kc2.describe()"
   ]
  },
  {
   "cell_type": "code",
   "execution_count": 10,
   "id": "c45ecca2",
   "metadata": {},
   "outputs": [],
   "source": [
    "quartos = kc2['quartos'].tolist()"
   ]
  },
  {
   "cell_type": "code",
   "execution_count": 19,
   "id": "6d388ebf",
   "metadata": {},
   "outputs": [
    {
     "name": "stdout",
     "output_type": "stream",
     "text": [
      "21613\n"
     ]
    }
   ],
   "source": [
    "# A lista \"qu\" está recebendo a potuação de acordo com o número de quartos'\n",
    "qu = []\n",
    "for x in quartos:\n",
    "    if x == 1:\n",
    "        qu.append(1)\n",
    "    elif x == 2:\n",
    "        qu.append(2)\n",
    "    elif x == 3:\n",
    "        qu.append(3)\n",
    "    elif x == 4:\n",
    "        qu.append(4)\n",
    "    elif x == 5:\n",
    "        qu.append(5)\n",
    "    else:\n",
    "        qu.append(0)\n",
    "print(len(qu))"
   ]
  },
  {
   "cell_type": "code",
   "execution_count": 22,
   "id": "a7ccbe8e",
   "metadata": {},
   "outputs": [
    {
     "name": "stdout",
     "output_type": "stream",
     "text": [
      "21613\n"
     ]
    }
   ],
   "source": [
    "banheiros = kc2['banheiros'].tolist()\n",
    "banheiros2 = []\n",
    "d = 5.21\n",
    "d = round(d)\n",
    "for x in banheiros:\n",
    "    x = round(x)\n",
    "    banheiros2.append(x)\n",
    "print(len(banheiros2))"
   ]
  },
  {
   "cell_type": "markdown",
   "id": "bd145e6e",
   "metadata": {},
   "source": [
    "Banheiro tá com muito valor quebrado. Será que a gente poderia aplicar alguma função de arredondamento? \n",
    "Só 6710 IDs tem um número de banheiros fechado. "
   ]
  },
  {
   "cell_type": "code",
   "execution_count": 23,
   "id": "654ec959",
   "metadata": {},
   "outputs": [
    {
     "name": "stdout",
     "output_type": "stream",
     "text": [
      "21613\n"
     ]
    }
   ],
   "source": [
    "bn = []\n",
    "for x in banheiros2:\n",
    "    if x == 0:\n",
    "        bn.append(0)\n",
    "    elif x == 1:\n",
    "        bn.append(1)\n",
    "    elif x == 2:\n",
    "        bn.append(2)\n",
    "    elif x == 3:\n",
    "        bn.append(3)\n",
    "    elif x == 4:\n",
    "        bn.append(4)\n",
    "    elif x == 5:\n",
    "        bn.append(5)\n",
    "    elif x == 6:\n",
    "        bn.append(6)\n",
    "    elif x == 7:\n",
    "        bn.append(7)\n",
    "    elif x == 8:\n",
    "        bn.append(8)\n",
    "        \n",
    "print(len(bn))"
   ]
  },
  {
   "cell_type": "code",
   "execution_count": 20,
   "id": "4dd451bf",
   "metadata": {},
   "outputs": [],
   "source": [
    "condicao = kc2['condicao'].tolist()"
   ]
  },
  {
   "cell_type": "code",
   "execution_count": 21,
   "id": "b5d76a98",
   "metadata": {},
   "outputs": [
    {
     "name": "stdout",
     "output_type": "stream",
     "text": [
      "21613\n"
     ]
    }
   ],
   "source": [
    "cd = []\n",
    "for x in condicao:\n",
    "    if x == 1:\n",
    "        cd.append(1)\n",
    "    elif x == 2:\n",
    "        cd.append(2)\n",
    "    elif x == 3:\n",
    "        cd.append(3)\n",
    "    elif x == 4:\n",
    "        cd.append(4)\n",
    "    elif x == 5:\n",
    "        cd.append(5)\n",
    "        \n",
    "print(len(cd))"
   ]
  },
  {
   "cell_type": "code",
   "execution_count": 14,
   "id": "b8eecce8",
   "metadata": {},
   "outputs": [],
   "source": [
    "padrao = kc2['padrao'].tolist()"
   ]
  },
  {
   "cell_type": "code",
   "execution_count": 15,
   "id": "9b074d9d",
   "metadata": {},
   "outputs": [
    {
     "name": "stdout",
     "output_type": "stream",
     "text": [
      "21613\n"
     ]
    }
   ],
   "source": [
    "pr = []\n",
    "for x in padrao:\n",
    "    if x == 1:\n",
    "        pr.append(1)\n",
    "    elif x == 2:\n",
    "        pr.append(2)\n",
    "    elif x == 3:\n",
    "        pr.append(3)\n",
    "    elif x == 4:\n",
    "        pr.append(4)\n",
    "    elif x == 5:\n",
    "        pr.append(5)\n",
    "    elif x == 6:\n",
    "        pr.append(6)\n",
    "    elif x == 7:\n",
    "        pr.append(7)\n",
    "        \n",
    "print(len(qu))"
   ]
  },
  {
   "cell_type": "code",
   "execution_count": 16,
   "id": "35336ba8",
   "metadata": {},
   "outputs": [],
   "source": [
    "visao = kc2['visao'].tolist()"
   ]
  },
  {
   "cell_type": "code",
   "execution_count": 17,
   "id": "42d0f015",
   "metadata": {},
   "outputs": [
    {
     "name": "stdout",
     "output_type": "stream",
     "text": [
      "21613\n"
     ]
    }
   ],
   "source": [
    "vs = []\n",
    "for x in visao:\n",
    "    if x == 0:\n",
    "        vs.append(0)\n",
    "    elif x == 1:\n",
    "        vs.append(1)\n",
    "    elif x == 2:\n",
    "        vs.append(2)\n",
    "    elif x == 3:\n",
    "        vs.append(3)\n",
    "    elif x == 4:\n",
    "        vs.append(4)\n",
    "        \n",
    "print(len(vs))"
   ]
  },
  {
   "cell_type": "code",
   "execution_count": 18,
   "id": "057d5b2a",
   "metadata": {},
   "outputs": [],
   "source": [
    "frente_mar = kc2['frente_mar'].tolist()"
   ]
  },
  {
   "cell_type": "code",
   "execution_count": 19,
   "id": "8608176d",
   "metadata": {},
   "outputs": [
    {
     "name": "stdout",
     "output_type": "stream",
     "text": [
      "21613\n"
     ]
    }
   ],
   "source": [
    "fm = []\n",
    "for x in frente_mar:\n",
    "    if x == 0:\n",
    "        fm.append(0)\n",
    "    elif x == 1:\n",
    "        fm.append(1)\n",
    "        \n",
    "print(len(fm))"
   ]
  },
  {
   "cell_type": "code",
   "execution_count": 20,
   "id": "d4787588",
   "metadata": {},
   "outputs": [],
   "source": [
    "nº_pavtos = kc2['nº_pavtos'].tolist()"
   ]
  },
  {
   "cell_type": "code",
   "execution_count": 21,
   "id": "3e92d3bd",
   "metadata": {},
   "outputs": [
    {
     "name": "stdout",
     "output_type": "stream",
     "text": [
      "21613\n"
     ]
    }
   ],
   "source": [
    "pv = []\n",
    "for x in nº_pavtos:\n",
    "    if x == 1:\n",
    "        pv.append(0)\n",
    "    elif x == 1.5:\n",
    "        pv.append(1)\n",
    "    elif x == 2:\n",
    "        pv.append(2)\n",
    "    elif x == 2.5:\n",
    "        pv.append(3)\n",
    "    elif x == 3:\n",
    "        pv.append(4)\n",
    "    elif x == 3.5:\n",
    "        pv.append(5)\n",
    "\n",
    "print(len(pv))"
   ]
  },
  {
   "cell_type": "code",
   "execution_count": 22,
   "id": "8509e84f",
   "metadata": {},
   "outputs": [],
   "source": [
    "ZIPs = kc2['cep'].tolist()"
   ]
  },
  {
   "cell_type": "code",
   "execution_count": 23,
   "id": "a5836c2d",
   "metadata": {},
   "outputs": [
    {
     "name": "stdout",
     "output_type": "stream",
     "text": [
      "21613\n"
     ]
    },
    {
     "data": {
      "text/plain": [
       "175"
      ]
     },
     "execution_count": 23,
     "metadata": {},
     "output_type": "execute_result"
    }
   ],
   "source": [
    "cep = []\n",
    "for x in ZIPs:\n",
    "    if x == 98074:\n",
    "        cep.append(1)\n",
    "    elif x == 98029:\n",
    "        cep.append(1)\n",
    "    elif x == 98052:\n",
    "        cep.append(1)\n",
    "    elif x == 98019:\n",
    "        cep.append(1)\n",
    "    elif x == 98075:\n",
    "        cep.append(1)\n",
    "    elif x == 98065:\n",
    "        cep.append(1)\n",
    "    elif x == 98038:\n",
    "        cep.append(1)\n",
    "    elif x == 98148:\n",
    "        cep.append(-1)\n",
    "    elif x == 98057:\n",
    "        cep.append(-1)\n",
    "    elif x == 98050:\n",
    "        cep.append(-1)\n",
    "    elif x == 98224:\n",
    "        cep.append(-1)\n",
    "    elif x == 98134:\n",
    "        cep.append(-1)\n",
    "    elif x == 98070:\n",
    "        cep.append(-1)\n",
    "    elif x == 98288:\n",
    "        cep.append(-1)\n",
    "    else:\n",
    "        cep.append(0)\n",
    "\n",
    "print(len(cep))\n",
    "cep.count(-1)"
   ]
  },
  {
   "cell_type": "code",
   "execution_count": 24,
   "id": "e2a2cf74",
   "metadata": {},
   "outputs": [],
   "source": [
    "# Quanto a classificação pelo valor da casa, eu pensei se a gente não poderia deixar isso pro final. Quando selecionássemos\n",
    "# as casas mais valorizáveis e as menos valorizadas. Escolhendo as 5 casas que tivessem o menor preço dentro das melhores \n",
    "# condições possíveis. E as cinco casas que tivessem o maior preço dentro das piores condições possíveis."
   ]
  },
  {
   "cell_type": "code",
   "execution_count": 25,
   "id": "718e8894",
   "metadata": {},
   "outputs": [],
   "source": [
    "# Quanto aos aspectos envolvendo a superfície da casa, acho que poderíamos dar a maior pontuação as casas que tivessem as\n",
    "# suas medidas acima do 3 quartil, menor pontuação as casas com medidas abaixo do 1 quartil, e pontuações intermediárias \n",
    "# nas medidas entre o 1 e o 3 quartil. "
   ]
  },
  {
   "cell_type": "code",
   "execution_count": 51,
   "id": "db59550f",
   "metadata": {},
   "outputs": [
    {
     "name": "stdout",
     "output_type": "stream",
     "text": [
      "[47.5112, 47.721, 47.7379, 47.5208, 47.6168, 47.6561, 47.3097, 47.4095, 47.5123, 47.3684]\n",
      "[-122.257, -122.319, -122.233, -122.393, -122.045, -122.005, -122.327, -122.315, -122.337, -122.031]\n"
     ]
    }
   ],
   "source": [
    "latitude = kc2['lat'].tolist()\n",
    "longitude = kc2['log'].tolist()\n",
    "print(latitude[0:10])\n",
    "print(longitude[0:10])"
   ]
  },
  {
   "cell_type": "code",
   "execution_count": null,
   "id": "4cb3c61b",
   "metadata": {},
   "outputs": [],
   "source": []
  },
  {
   "cell_type": "code",
   "execution_count": null,
   "id": "bb5ed3ca",
   "metadata": {},
   "outputs": [],
   "source": []
  },
  {
   "cell_type": "code",
   "execution_count": 24,
   "id": "846cc959",
   "metadata": {},
   "outputs": [
    {
     "name": "stdout",
     "output_type": "stream",
     "text": [
      "[1180, 2570, 770, 1960, 1680, 5420, 1715, 1060, 1780, 1890]\n"
     ]
    }
   ],
   "source": [
    "casa_m2 = kc2['casa_m²'].tolist()\n",
    "print(casa_m2[0:10])\n",
    "1427\n",
    "1910\n",
    "2550"
   ]
  },
  {
   "cell_type": "code",
   "execution_count": 32,
   "id": "8328fb6a",
   "metadata": {},
   "outputs": [
    {
     "name": "stdout",
     "output_type": "stream",
     "text": [
      "21613\n"
     ]
    }
   ],
   "source": [
    "cm2 = []\n",
    "for y in casa_m2:\n",
    "  if y <= 1427:\n",
    "    cm2.append(0)\n",
    "  if 1427 < y <= 1910:\n",
    "    cm2.append(1)\n",
    "  if 1910 < y <= 2550:\n",
    "    cm2.append(2)\n",
    "  if y > 2550:\n",
    "    cm2.append(4) \n",
    "    \n",
    "print(len(cm2))\n"
   ]
  },
  {
   "cell_type": "code",
   "execution_count": 33,
   "id": "dbf0a1f9",
   "metadata": {},
   "outputs": [
    {
     "name": "stdout",
     "output_type": "stream",
     "text": [
      "[5650, 7242, 10000, 5000, 8080, 101930, 6819, 9711, 7470, 6560]\n"
     ]
    }
   ],
   "source": [
    "lotem2 = kc2['lote_m²'].tolist()\n",
    "print(lotem2[0:10])\n",
    "5040, 7618, 10688"
   ]
  },
  {
   "cell_type": "code",
   "execution_count": 34,
   "id": "419d4a9d",
   "metadata": {},
   "outputs": [
    {
     "name": "stdout",
     "output_type": "stream",
     "text": [
      "21613\n"
     ]
    }
   ],
   "source": [
    "lm2 = []\n",
    "for y in casa_m2:\n",
    "  if y <= 5040:\n",
    "    lm2.append(0)\n",
    "  if 5040 < y <= 7618:\n",
    "    lm2.append(1)\n",
    "  if 7618 < y <= 10688:\n",
    "    lm2.append(2)\n",
    "  if y > 10688:\n",
    "    lm2.append(4) \n",
    "    \n",
    "print(len(lm2))"
   ]
  },
  {
   "cell_type": "code",
   "execution_count": 11,
   "id": "ff62b61d",
   "metadata": {},
   "outputs": [
    {
     "name": "stdout",
     "output_type": "stream",
     "text": [
      "8487 \n",
      " 13126\n"
     ]
    },
    {
     "data": {
      "text/plain": [
       "{'whiskers': [<matplotlib.lines.Line2D at 0x2298ebeff70>,\n",
       "  <matplotlib.lines.Line2D at 0x2298ebfd340>],\n",
       " 'caps': [<matplotlib.lines.Line2D at 0x2298ebfd6d0>,\n",
       "  <matplotlib.lines.Line2D at 0x2298ebfda60>],\n",
       " 'boxes': [<matplotlib.lines.Line2D at 0x2298ebefbe0>],\n",
       " 'medians': [<matplotlib.lines.Line2D at 0x2298ebfddf0>],\n",
       " 'fliers': [<matplotlib.lines.Line2D at 0x2298ec4e1c0>],\n",
       " 'means': []}"
      ]
     },
     "execution_count": 11,
     "metadata": {},
     "output_type": "execute_result"
    },
    {
     "data": {
      "image/png": "[encoded data removed]",
      "text/plain": [
       "<Figure size 432x288 with 1 Axes>"
      ]
     },
     "metadata": {},
     "output_type": "display_data"
    }
   ],
   "source": [
    "sbs2 = kc2['subsolo_m²'].tolist()\n",
    "291, 560, 4820\n",
    "sbs3 = []\n",
    "sbs4 = []\n",
    "for x in sbs2:\n",
    "    if x != 0:\n",
    "        sbs3.append(x)\n",
    "    else:\n",
    "        sbs4.append(x)\n",
    "    \n",
    "print(len(sbs3),'\\n',len(sbs4))\n",
    "plt.boxplot(sbs3)"
   ]
  },
  {
   "cell_type": "code",
   "execution_count": 15,
   "id": "8c72e175",
   "metadata": {},
   "outputs": [
    {
     "data": {
      "text/plain": [
       "(1951, 1975, 1997)"
      ]
     },
     "execution_count": 15,
     "metadata": {},
     "output_type": "execute_result"
    }
   ],
   "source": [
    "construcao = kc2['construção'].tolist()\n",
    "1951, 1975, 1997"
   ]
  },
  {
   "cell_type": "code",
   "execution_count": 17,
   "id": "4d759469",
   "metadata": {},
   "outputs": [
    {
     "name": "stdout",
     "output_type": "stream",
     "text": [
      "21613\n"
     ]
    }
   ],
   "source": [
    "const = []\n",
    "for y in construcao:\n",
    "  if y <= 1951:\n",
    "    const.append(0)\n",
    "  if 1951 < y <= 1975:\n",
    "    const.append(1)\n",
    "  if 1975 < y <= 1997:\n",
    "    const.append(2)\n",
    "  if y > 1997:\n",
    "    const.append(4) \n",
    "    \n",
    "print(len(const))"
   ]
  },
  {
   "cell_type": "code",
   "execution_count": 13,
   "id": "dcfbbdfe",
   "metadata": {},
   "outputs": [],
   "source": [
    "rfm = kc2['reforma'].tolist()"
   ]
  },
  {
   "cell_type": "code",
   "execution_count": 24,
   "id": "ba685a1c",
   "metadata": {},
   "outputs": [
    {
     "name": "stdout",
     "output_type": "stream",
     "text": [
      "914\n"
     ]
    },
    {
     "data": {
      "text/plain": [
       "{'whiskers': [<matplotlib.lines.Line2D at 0x2298ef89df0>,\n",
       "  <matplotlib.lines.Line2D at 0x2298ee9d1c0>],\n",
       " 'caps': [<matplotlib.lines.Line2D at 0x2298ee9d550>,\n",
       "  <matplotlib.lines.Line2D at 0x2298ee9d8e0>],\n",
       " 'boxes': [<matplotlib.lines.Line2D at 0x2298ef89a60>],\n",
       " 'medians': [<matplotlib.lines.Line2D at 0x2298ee9dc70>],\n",
       " 'fliers': [<matplotlib.lines.Line2D at 0x2298eea8040>],\n",
       " 'means': []}"
      ]
     },
     "execution_count": 24,
     "metadata": {},
     "output_type": "execute_result"
    },
    {
     "data": {
      "image/png": "[encoded data removed]",
      "text/plain": [
       "<Figure size 432x288 with 1 Axes>"
      ]
     },
     "metadata": {},
     "output_type": "display_data"
    }
   ],
   "source": [
    "rfm2 = []\n",
    "rfm3 = []\n",
    "for x in rfm:\n",
    "    if x != 0:\n",
    "        rfm2.append(x)\n",
    "    \n",
    "    \n",
    "print(len(rfm2))\n",
    "plt.boxplot(rfm2)"
   ]
  },
  {
   "cell_type": "code",
   "execution_count": null,
   "id": "f7d3ef03",
   "metadata": {},
   "outputs": [],
   "source": []
  }
 ],
 "metadata": {
  "kernelspec": {
   "display_name": "Python 3 (ipykernel)",
   "language": "python",
   "name": "python3"
  },
  "language_info": {
   "codemirror_mode": {
    "name": "ipython",
    "version": 3
   },
   "file_extension": ".py",
   "mimetype": "text/x-python",
   "name": "python",
   "nbconvert_exporter": "python",
   "pygments_lexer": "ipython3",
   "version": "3.9.7"
  }
 },
 "nbformat": 4,
 "nbformat_minor": 5
}
